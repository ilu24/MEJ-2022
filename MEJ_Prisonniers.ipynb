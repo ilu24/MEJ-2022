{
  "nbformat": 4,
  "nbformat_minor": 0,
  "metadata": {
    "colab": {
      "name": "MEJ-Prisonniers.ipynb",
      "provenance": [],
      "authorship_tag": "ABX9TyOFo98k33XUgsrX164cWJUx",
      "include_colab_link": true
    },
    "kernelspec": {
      "name": "python3",
      "display_name": "Python 3"
    },
    "language_info": {
      "name": "python"
    }
  },
  "cells": [
    {
      "cell_type": "markdown",
      "metadata": {
        "id": "view-in-github",
        "colab_type": "text"
      },
      "source": [
        "<a href=\"https://colab.research.google.com/github/ilu24/MEJ-2022/blob/main/MEJ_Prisonniers.ipynb\" target=\"_parent\"><img src=\"https://colab.research.google.com/assets/colab-badge.svg\" alt=\"Open In Colab\"/></a>"
      ]
    },
    {
      "cell_type": "markdown",
      "source": [
        "# Initialisation: valeurs des cases et les echecs aux hasard"
      ],
      "metadata": {
        "id": "dfdCpGVdwwi1"
      }
    },
    {
      "cell_type": "code",
      "execution_count": 36,
      "metadata": {
        "id": "58I-HM_BlTC4"
      },
      "outputs": [],
      "source": [
        "import random\n",
        "from random import randint\n",
        "\n",
        "board = [[[0,0,0,0,0,0],[0,0,0,0,0,1],[0,0,0,0,1,0],[0,0,0,0,1,1],[0,0,0,1,0,0],[0,0,0,1,0,1],[0,0,0,1,1,0],[0,0,0,1,1,1]],\n",
        "         [[0,0,1,0,0,0],[0,0,1,0,0,1],[0,0,1,0,1,0],[0,0,1,0,1,1],[0,0,1,1,0,0],[0,0,1,1,0,1],[0,0,1,1,1,0],[0,0,1,1,1,1]],\n",
        "         [[0,1,0,0,0,0],[0,1,0,0,0,1],[0,1,0,0,1,0],[0,1,0,0,1,1],[0,1,0,1,0,0],[0,1,0,1,0,1],[0,1,0,1,1,0],[0,1,0,1,1,1]],\n",
        "         [[0,1,1,0,0,0],[0,1,1,0,0,1],[0,1,1,0,1,0],[0,1,1,0,1,1],[0,1,1,1,0,0],[0,1,1,1,0,1],[0,1,1,1,1,0],[0,1,1,1,1,1]],\n",
        "         [[1,0,0,0,0,0],[1,0,0,0,0,1],[1,0,0,0,1,0],[1,0,0,0,1,1],[1,0,0,1,0,0],[1,0,0,1,0,1],[1,0,0,1,1,0],[1,0,0,1,1,1]],\n",
        "         [[1,0,1,0,0,0],[1,0,1,0,0,1],[1,0,1,0,1,0],[1,0,1,0,1,1],[1,0,1,1,0,0],[1,0,1,1,0,1],[1,0,1,1,1,0],[1,0,1,1,1,1]],\n",
        "         [[1,1,0,0,0,0],[1,1,0,0,0,1],[1,1,0,0,1,0],[1,1,0,0,1,1],[1,1,0,1,0,0],[1,1,0,1,0,1],[1,1,0,1,1,0],[1,1,0,1,1,1]],\n",
        "         [[1,1,1,0,0,0],[1,1,1,0,0,1],[1,1,1,0,1,0],[1,1,1,0,1,1],[1,1,1,1,0,0],[1,1,1,1,0,1],[1,1,1,1,1,0],[1,1,1,1,1,1]]]\n",
        "\n",
        "checkers = [[0,0,0,0,0,0,0,0],\n",
        "            [0,0,0,0,0,0,0,0],\n",
        "            [0,0,0,0,0,0,0,0],\n",
        "            [0,0,0,0,0,0,0,0],\n",
        "            [0,0,0,0,0,0,0,0],\n",
        "            [0,0,0,0,0,0,0,0],\n",
        "            [0,0,0,0,0,0,0,0],\n",
        "            [0,0,0,0,0,0,0,0],]\n",
        "\n",
        "FinalValues = \"Values: \""
      ]
    },
    {
      "cell_type": "code",
      "source": [
        "def initialise_board():\n",
        "  for i in range(len(board)):\n",
        "    for j in range(len(board[0])):\n",
        "      value = randint(0,1)\n",
        "      if value == 1:\n",
        "         checkers[i][j] = 1; \n"
      ],
      "metadata": {
        "id": "MYX5ysZyln53"
      },
      "execution_count": 37,
      "outputs": []
    },
    {
      "cell_type": "code",
      "source": [
        "initialise_board()\n",
        "print(\"Voici la configuration du board:\")\n",
        "checkers"
      ],
      "metadata": {
        "colab": {
          "base_uri": "https://localhost:8080/"
        },
        "id": "ihcQuChmxFso",
        "outputId": "b669fb62-b890-45a6-e920-1dbb85b41f3b"
      },
      "execution_count": 38,
      "outputs": [
        {
          "output_type": "stream",
          "name": "stdout",
          "text": [
            "Voici la configuration du board:\n"
          ]
        },
        {
          "output_type": "execute_result",
          "data": {
            "text/plain": [
              "[[1, 0, 0, 0, 1, 0, 0, 1],\n",
              " [0, 1, 1, 0, 1, 0, 0, 0],\n",
              " [0, 0, 0, 1, 1, 1, 0, 0],\n",
              " [1, 0, 0, 0, 0, 1, 0, 1],\n",
              " [1, 0, 0, 0, 1, 0, 1, 0],\n",
              " [1, 1, 1, 1, 1, 1, 1, 1],\n",
              " [1, 0, 0, 0, 1, 0, 0, 1],\n",
              " [0, 0, 0, 0, 1, 0, 1, 0]]"
            ]
          },
          "metadata": {},
          "execution_count": 38
        }
      ]
    },
    {
      "cell_type": "markdown",
      "source": [
        "#Choisir la case magique"
      ],
      "metadata": {
        "id": "FerjHV-7w65Z"
      }
    },
    {
      "cell_type": "code",
      "source": [
        "magicSquare = []\n",
        " \n",
        "for i in range(6):\n",
        "    nombre = int(input())\n",
        "    magicSquare.append(nombre) \n",
        "     \n",
        "print(magicSquare)"
      ],
      "metadata": {
        "colab": {
          "base_uri": "https://localhost:8080/"
        },
        "id": "XBu-VzZ7wBU6",
        "outputId": "fc74a003-f490-42df-9b80-290cd7dcd0ba"
      },
      "execution_count": 45,
      "outputs": [
        {
          "output_type": "stream",
          "name": "stdout",
          "text": [
            "1\n",
            "1\n",
            "1\n",
            "0\n",
            "0\n",
            "1\n",
            "[1, 1, 1, 0, 0, 1]\n"
          ]
        }
      ]
    },
    {
      "cell_type": "markdown",
      "source": [
        "#Collecter les valeurs du board qui ont pour echec \"1\""
      ],
      "metadata": {
        "id": "sEKg7XT_xOKx"
      }
    },
    {
      "cell_type": "code",
      "source": [
        "def display_values():\n",
        "    Values = []\n",
        "    count = 0;\n",
        "    for i in range(len(board)):\n",
        "      for j in range(len(board[0])):\n",
        "        if checkers[i][j] == 1:\n",
        "          Values.append(board[i][j])\n",
        "        count += 1;\n",
        "    return Values"
      ],
      "metadata": {
        "id": "itY1fimvqOAx"
      },
      "execution_count": 40,
      "outputs": []
    },
    {
      "cell_type": "code",
      "source": [
        "finalBoard = display_values()\n",
        "finalBoard"
      ],
      "metadata": {
        "colab": {
          "base_uri": "https://localhost:8080/"
        },
        "id": "2VAMmnakuX4-",
        "outputId": "aff98338-5499-4387-cac4-3f3c14a9b239"
      },
      "execution_count": 41,
      "outputs": [
        {
          "output_type": "execute_result",
          "data": {
            "text/plain": [
              "[[0, 0, 0, 0, 0, 0],\n",
              " [0, 0, 0, 1, 0, 0],\n",
              " [0, 0, 0, 1, 1, 1],\n",
              " [0, 0, 1, 0, 0, 1],\n",
              " [0, 0, 1, 0, 1, 0],\n",
              " [0, 0, 1, 1, 0, 0],\n",
              " [0, 1, 0, 0, 1, 1],\n",
              " [0, 1, 0, 1, 0, 0],\n",
              " [0, 1, 0, 1, 0, 1],\n",
              " [0, 1, 1, 0, 0, 0],\n",
              " [0, 1, 1, 1, 0, 1],\n",
              " [0, 1, 1, 1, 1, 1],\n",
              " [1, 0, 0, 0, 0, 0],\n",
              " [1, 0, 0, 1, 0, 0],\n",
              " [1, 0, 0, 1, 1, 0],\n",
              " [1, 0, 1, 0, 0, 0],\n",
              " [1, 0, 1, 0, 0, 1],\n",
              " [1, 0, 1, 0, 1, 0],\n",
              " [1, 0, 1, 0, 1, 1],\n",
              " [1, 0, 1, 1, 0, 0],\n",
              " [1, 0, 1, 1, 0, 1],\n",
              " [1, 0, 1, 1, 1, 0],\n",
              " [1, 0, 1, 1, 1, 1],\n",
              " [1, 1, 0, 0, 0, 0],\n",
              " [1, 1, 0, 1, 0, 0],\n",
              " [1, 1, 0, 1, 1, 1],\n",
              " [1, 1, 1, 1, 0, 0],\n",
              " [1, 1, 1, 1, 1, 0]]"
            ]
          },
          "metadata": {},
          "execution_count": 41
        }
      ]
    },
    {
      "cell_type": "markdown",
      "source": [
        "#Addition sans retenue"
      ],
      "metadata": {
        "id": "Exqf7efsxe0Y"
      }
    },
    {
      "cell_type": "code",
      "source": [
        "numOne = 0\n",
        "numTwo = 0\n",
        "numThree = 0\n",
        "numFour = 0\n",
        "numFive = 0\n",
        "numSix = 0\n",
        "\n",
        "for i in range(len(finalBoard)): #number of rows = number of checkers you add\n",
        "    n = finalBoard[i]\n",
        "    numOne += n[0]\n",
        "    numTwo += n[1]\n",
        "    numThree += n[2]\n",
        "    numFour += n[3]\n",
        "    numFive += n[4]\n",
        "    numSix += n[5]\n",
        "\n",
        "if numOne % 2 == 0:\n",
        "  numOne = 0\n",
        "else:\n",
        "  numOne = 1\n",
        "\n",
        "if numTwo % 2 == 0:\n",
        "  numTwo = 0\n",
        "else:\n",
        "  numTwo = 1\n",
        "\n",
        "if numThree % 2 == 0:\n",
        "  numThree = 0\n",
        "else:\n",
        "  numThree = 1\n",
        "\n",
        "if numFour % 2 == 0:\n",
        "  numFour = 0\n",
        "else:\n",
        "  numFour = 1\n",
        "\n",
        "if numFive % 2 == 0:\n",
        "  numFive = 0\n",
        "else:\n",
        "  numFive = 1\n",
        "\n",
        "if numSix % 2 == 0:\n",
        "  numSix = 0\n",
        "else:\n",
        "  numSix = 1\n",
        "\n",
        "print(\"Voici la somme de tous les cases avec un echec \\\"choisi\\\":\")\n",
        "caseAddition = [numOne, numTwo, numThree, numFour, numFive, numSix]\n",
        "print(caseAddition)"
      ],
      "metadata": {
        "id": "O9UUOBoj1uFG",
        "colab": {
          "base_uri": "https://localhost:8080/"
        },
        "outputId": "b33d9968-88f9-4394-db9d-0fe6b2f0e55d"
      },
      "execution_count": 42,
      "outputs": [
        {
          "output_type": "stream",
          "name": "stdout",
          "text": [
            "Voici la somme de tous les cases avec un echec \"choisi\":\n",
            "[0, 1, 0, 1, 1, 1]\n"
          ]
        }
      ]
    },
    {
      "cell_type": "markdown",
      "source": [
        "#Conclusion - quelle case faut-il retourner?"
      ],
      "metadata": {
        "id": "59p6VSnIxwoz"
      }
    },
    {
      "cell_type": "code",
      "source": [
        "caseNecessary = [0,0,0,0,0,0]\n",
        "\n",
        "for i in range (6):\n",
        "  caseNecessary[i] = abs(caseAddition[i]-magicSquare[i])\n",
        "\n",
        "print(\"La somme maintenant est    \", caseAddition)\n",
        "print(\"Il faut retourner la case: \", caseNecessary)\n",
        "print(\"pour obtenir la somme:     \", magicSquare)\n"
      ],
      "metadata": {
        "colab": {
          "base_uri": "https://localhost:8080/"
        },
        "id": "vH1UjUxCuc64",
        "outputId": "da57ea03-72ce-4297-911b-a9665cd6647d"
      },
      "execution_count": 43,
      "outputs": [
        {
          "output_type": "stream",
          "name": "stdout",
          "text": [
            "La somme maintenant est     [0, 1, 0, 1, 1, 1]\n",
            "Il faut retourner la case:  [0, 0, 0, 0, 0, 1]\n",
            "pour obtenir la somme:      [0, 1, 0, 1, 1, 0]\n"
          ]
        }
      ]
    }
  ]
}